{
 "cells": [
  {
   "cell_type": "code",
   "execution_count": 42,
   "metadata": {},
   "outputs": [],
   "source": [
    "import findspark\n",
    "findspark.init()"
   ]
  },
  {
   "cell_type": "code",
   "execution_count": 43,
   "metadata": {},
   "outputs": [],
   "source": [
    "\n",
    "from pyspark.sql import SparkSession\n",
    "\n",
    "# Initialize SparkSession\n",
    "spark = SparkSession.builder.appName(\"Spark_Project\").getOrCreate()\n",
    "\n",
    "# Verify SparkContext is available\n",
    "sc = spark.sparkContext"
   ]
  },
  {
   "cell_type": "code",
   "execution_count": 44,
   "metadata": {},
   "outputs": [
    {
     "name": "stdout",
     "output_type": "stream",
     "text": [
      "root\n",
      " |-- As of Date: string (nullable = true)\n",
      " |-- Fiscal Year: integer (nullable = true)\n",
      " |-- Region: string (nullable = true)\n",
      " |-- Borrower Country: string (nullable = true)\n",
      " |-- Borrower Country Code: string (nullable = true)\n",
      " |-- Project ID: string (nullable = true)\n",
      " |-- Project Name: string (nullable = true)\n",
      " |-- Procurement Type: string (nullable = true)\n",
      " |-- Procurement Category: string (nullable = true)\n",
      " |-- Procurement Method: string (nullable = true)\n",
      " |-- Product line: string (nullable = true)\n",
      " |-- WB Contract Number: integer (nullable = true)\n",
      " |-- Contract Signing Date: string (nullable = true)\n",
      " |-- Supplier: string (nullable = true)\n",
      " |-- Supplier Country: string (nullable = true)\n",
      " |-- Supplier Country Code: string (nullable = true)\n",
      " |-- Total Contract Amount (USD): string (nullable = true)\n",
      "\n",
      "+-------------+-----------+--------------------+----------------+---------------------+----------+--------------------+-------------------+--------------------+--------------------+------------+------------------+---------------------+--------------------+----------------+---------------------+---------------------------+\n",
      "|   As of Date|Fiscal Year|              Region|Borrower Country|Borrower Country Code|Project ID|        Project Name|   Procurement Type|Procurement Category|  Procurement Method|Product line|WB Contract Number|Contract Signing Date|            Supplier|Supplier Country|Supplier Country Code|Total Contract Amount (USD)|\n",
      "+-------------+-----------+--------------------+----------------+---------------------+----------+--------------------+-------------------+--------------------+--------------------+------------+------------------+---------------------+--------------------+----------------+---------------------+---------------------------+\n",
      "|9/6/2017 0:00|       2004|              AFRICA|            Mali|                   ML|   P041723|Rural Infrastr (F...|Feasibility Studies| CONSULTANT SERVICES|Single Source Sel...|    IBRD/IDA|           1236192|       7/15/2003 0:00|        AGETIER-MALI|            Mali|                   ML|               $176,578.47 |\n",
      "|9/6/2017 0:00|       2004|              AFRICA|            Mali|                   ML|   P041723|Rural Infrastr (F...|Feasibility Studies| CONSULTANT SERVICES|Single Source Sel...|    IBRD/IDA|           1236192|       7/15/2003 0:00|        AGETIER-MALI|            Mali|                   ML|                $38,386.63 |\n",
      "|9/6/2017 0:00|       2004|              AFRICA|            Mali|                   ML|   P041723|Rural Infrastr (F...|Feasibility Studies| CONSULTANT SERVICES|Single Source Sel...|    IBRD/IDA|           1236192|       7/15/2003 0:00|        AGETIER-MALI|            Mali|                   ML|                $76,773.25 |\n",
      "|9/6/2017 0:00|       2004|              AFRICA|            Mali|                   ML|   P041723|Rural Infrastr (F...|Feasibility Studies| CONSULTANT SERVICES|Single Source Sel...|    IBRD/IDA|           1236192|       7/15/2003 0:00|        AGETIER-MALI|            Mali|                   ML|                $92,127.90 |\n",
      "|9/6/2017 0:00|       2004|EAST ASIA AND PAC...|       Indonesia|                   ID|   P040528|ID-W. JAVA ENVMT ...|Policy and Strategy| CONSULTANT SERVICES|Quality And Cost-...|    IBRD/IDA|           1233245|       8/19/2003 0:00|ARCADIS EUROCONSU...|       Indonesia|                   ID|                $10,615.20 |\n",
      "+-------------+-----------+--------------------+----------------+---------------------+----------+--------------------+-------------------+--------------------+--------------------+------------+------------------+---------------------+--------------------+----------------+---------------------+---------------------------+\n",
      "only showing top 5 rows\n",
      "\n",
      "151623\n"
     ]
    }
   ],
   "source": [
    "#file location and type\n",
    "file_location=\"C:\\\\Users\\\\16478\\\\Desktop\\\\term 2\\\\1034\\\\Major_Contract_Awards.csv\"\n",
    "file_type=\"csv\"\n",
    "\n",
    "#csv options\n",
    "infer_schema=\"true\"   #to detect the column datatype\n",
    "first_row_header=\"true\"  #to take the header row\n",
    "delimiter=\",\"\n",
    "\n",
    "#creating df\n",
    "df=spark.read.format(file_type).option(\"inferSchema\",infer_schema).option(\"header\",first_row_header).load(file_location)\n",
    "df.printSchema()\n",
    "df.show(5)\n",
    "select_df = df.select(\"Fiscal Year\", \"Region\",\"Borrower Country\",\"Borrower Country Code\",\"Project ID\",\"Project Name\",\"Supplier Country\",\"Supplier Country Code\",\"Total Contract Amount (USD)\")\n",
    "print(select_df.count())"
   ]
  },
  {
   "cell_type": "code",
   "execution_count": 45,
   "metadata": {
    "application/vnd.databricks.v1+cell": {
     "cellMetadata": {},
     "inputWidgets": {},
     "nuid": "096f9880-99dd-46c7-985c-f8799e1e538c",
     "showTitle": false,
     "title": ""
    }
   },
   "outputs": [
    {
     "name": "stdout",
     "output_type": "stream",
     "text": [
      "DataFrame[Fiscal Year: bigint, Region: bigint, Borrower Country: bigint, Borrower Country Code: bigint, Project ID: bigint, Project Name: bigint, Supplier Country: bigint, Supplier Country Code: bigint, Total Contract Amount (USD): bigint]\n",
      "+-----------+------+----------------+---------------------+----------+------------+----------------+---------------------+---------------------------+\n",
      "|Fiscal Year|Region|Borrower Country|Borrower Country Code|Project ID|Project Name|Supplier Country|Supplier Country Code|Total Contract Amount (USD)|\n",
      "+-----------+------+----------------+---------------------+----------+------------+----------------+---------------------+---------------------------+\n",
      "|          0|     0|               0|                    0|         0|           0|               0|                    0|                        413|\n",
      "+-----------+------+----------------+---------------------+----------+------------+----------------+---------------------+---------------------------+\n",
      "\n",
      "+-----------+--------------------+-------------------+---------------------+----------+--------------------+-------------------+---------------------+---------------------------+\n",
      "|Fiscal Year|              Region|   Borrower Country|Borrower Country Code|Project ID|        Project Name|   Supplier Country|Supplier Country Code|Total Contract Amount (USD)|\n",
      "+-----------+--------------------+-------------------+---------------------+----------+--------------------+-------------------+---------------------+---------------------------+\n",
      "|       2004|EUROPE AND CENTRA...|            Romania|                   RO|   P056337|        MINE CLOSURE|            Romania|                   RO|                       null|\n",
      "|       2004|EUROPE AND CENTRA...|         Uzbekistan|                   UZ|   P051370|            HEALTH 2|             France|                   FR|                       null|\n",
      "|       2004|MIDDLE EAST AND N...| Yemen, Republic of|                   RY|   P062714|RY-IRRIGATION IMP...| Yemen, Republic of|                   RY|                       null|\n",
      "|       2004|MIDDLE EAST AND N...| West Bank and Gaza|                   GZ|   P049708|PAL EXPAT PROF PR...| West Bank and Gaza|                   GZ|                       null|\n",
      "|       2004|LATIN AMERICA AND...|             Brazil|                   BR|   P051696|BR SAO PAULO METR...|             Brazil|                   BR|                       null|\n",
      "|       2004|EAST ASIA AND PAC...|           Cambodia|                   KH|   P065798|KH-BIO & PROTEC A...|           Cambodia|                   KH|                       null|\n",
      "|       2004|EAST ASIA AND PAC...|          Indonesia|                   ID|   P055821|    ID-URBAN POVERTY|          Indonesia|                   ID|                       null|\n",
      "|       2004|EAST ASIA AND PAC...|          Indonesia|                   ID|   P072852|             ID-UPP2|          Indonesia|                   ID|                       null|\n",
      "|       2004|LATIN AMERICA AND...|          Nicaragua|                   NI|   P064916|NI Natural Disast...|          Nicaragua|                   NI|                       null|\n",
      "|       2004|EUROPE AND CENTRA...|         Tajikistan|                   TJ|   P058898|   RURAL INFRA REHAB|         Tajikistan|                   TJ|                       null|\n",
      "|       2004|MIDDLE EAST AND N...|            Morocco|                   MA|   P056978|MA-Irrigation Bas...|            Morocco|                   MA|                       null|\n",
      "|       2004|LATIN AMERICA AND...|             Mexico|                   MX|   P057531| MX Basic Ed. APL II|             Mexico|                   MX|                       null|\n",
      "|       2004|MIDDLE EAST AND N...|            Lebanon|                   LB|   P050529|LB - Cultural Her...|            Lebanon|                   LB|                       null|\n",
      "|       2004|LATIN AMERICA AND...|           Honduras|                   HN|   P060785|HN ECONOMIC & FIN...|          Nicaragua|                   NI|                       null|\n",
      "|       2004|              AFRICA|             Zambia|                   ZM|   P057167| ZM-TEVET SIM (FY01)|             Zambia|                   ZM|                       null|\n",
      "|       2004|              AFRICA|         Madagascar|                   MG|   P072987|MG-MultiSec STI/H...|         Madagascar|                   MG|                       null|\n",
      "|       2004|EAST ASIA AND PAC...|              China|                   CN|   P003654|CN-Nat Hwy2/Hunan...|             Canada|                   CA|                       null|\n",
      "|       2004|LATIN AMERICA AND...|Trinidad and Tobago|                   TT|   P040108|TT POSTAL SERV. R...|Trinidad and Tobago|                   TT|                       null|\n",
      "|       2004|LATIN AMERICA AND...|          Argentina|                   AR|   P052590|AR NAT HWY REHAB&...|          Argentina|                   AR|                       null|\n",
      "|       2004|          SOUTH ASIA|             Bhutan|                   BT|   P074114|BT: Education Dev...|             Bhutan|                   BT|                       null|\n",
      "+-----------+--------------------+-------------------+---------------------+----------+--------------------+-------------------+---------------------+---------------------------+\n",
      "only showing top 20 rows\n",
      "\n",
      "413\n",
      "+-----------+--------------------+--------------------+---------------------+----------+--------------------+--------------------+---------------------+---------------------------+\n",
      "|Fiscal Year|              Region|    Borrower Country|Borrower Country Code|Project ID|        Project Name|    Supplier Country|Supplier Country Code|Total Contract Amount (USD)|\n",
      "+-----------+--------------------+--------------------+---------------------+----------+--------------------+--------------------+---------------------+---------------------------+\n",
      "|       2004|              AFRICA|                Mali|                   ML|   P041723|Rural Infrastr (F...|                Mali|                   ML|               $176,578.47 |\n",
      "|       2004|              AFRICA|                Mali|                   ML|   P041723|Rural Infrastr (F...|                Mali|                   ML|                $38,386.63 |\n",
      "|       2004|              AFRICA|                Mali|                   ML|   P041723|Rural Infrastr (F...|                Mali|                   ML|                $76,773.25 |\n",
      "|       2004|              AFRICA|                Mali|                   ML|   P041723|Rural Infrastr (F...|                Mali|                   ML|                $92,127.90 |\n",
      "|       2004|EAST ASIA AND PAC...|           Indonesia|                   ID|   P040528|ID-W. JAVA ENVMT ...|           Indonesia|                   ID|                $10,615.20 |\n",
      "|       2004|EAST ASIA AND PAC...|           Indonesia|                   ID|   P040528|ID-W. JAVA ENVMT ...|           Indonesia|                   ID|                $95,536.79 |\n",
      "|       2004|EAST ASIA AND PAC...|         Timor-Leste|                   TP|   P072647|TP-FUNDAMENTAL SC...|         Timor-Leste|                   TP|               $144,317.85 |\n",
      "|       2004|EAST ASIA AND PAC...|         Timor-Leste|                   TP|   P072647|TP-FUNDAMENTAL SC...|         Timor-Leste|                   TP|               $115,712.54 |\n",
      "|       2004|          SOUTH ASIA|          Bangladesh|                   BD|   P071435|BD: Rural Transpo...|              Sweden|                   SE|             $5,329,142.50 |\n",
      "|       2004|          SOUTH ASIA|          Bangladesh|                   BD|   P071435|BD: Rural Transpo...|           Australia|                   AU|             $5,144,486.61 |\n",
      "|       2004|          SOUTH ASIA|              Bhutan|                   BT|   P057570| DEVELOPMENT PROJECT|              Bhutan|                   BT|               $257,620.49 |\n",
      "|       2004|          SOUTH ASIA|               India|                   IN|   P035158|Third Andhra Prad...|               India|                   IN|             $1,214,054.72 |\n",
      "|       2004|          SOUTH ASIA|               India|                   IN|   P050668|IN: MUMBAI URBAN ...|       United States|                   US|               $155,622.19 |\n",
      "|       2004|          SOUTH ASIA|               India|                   IN|   P050668|IN: MUMBAI URBAN ...|       United States|                   US|               $881,859.10 |\n",
      "|       2004|EUROPE AND CENTRA...|             Albania|                   AL|   P074905|PWR SECT REHAB/RE...|           Argentina|                   AR|               $104,317.13 |\n",
      "|       2004|EUROPE AND CENTRA...|Bosnia and Herzeg...|                   BA|   P070995|           COMM DEVT|Bosnia and Herzeg...|                   BA|                 $8,174.18 |\n",
      "|       2004|EUROPE AND CENTRA...|Bosnia and Herzeg...|                   BA|   P070995|           COMM DEVT|Bosnia and Herzeg...|                   BA|                $14,596.75 |\n",
      "|       2004|EUROPE AND CENTRA...|Bosnia and Herzeg...|                   BA|   P070995|           COMM DEVT|Bosnia and Herzeg...|                   BA|                $12,261.27 |\n",
      "|       2004|EUROPE AND CENTRA...|Bosnia and Herzeg...|                   BA|   P070995|           COMM DEVT|Bosnia and Herzeg...|                   BA|                 $8,758.05 |\n",
      "|       2004|EUROPE AND CENTRA...|Bosnia and Herzeg...|                   BA|   P070995|           COMM DEVT|Bosnia and Herzeg...|                   BA|                $14,596.73 |\n",
      "+-----------+--------------------+--------------------+---------------------+----------+--------------------+--------------------+---------------------+---------------------------+\n",
      "only showing top 20 rows\n",
      "\n"
     ]
    }
   ],
   "source": [
    "from pyspark.sql.functions import isnan, when, count, col\n",
    "\n",
    "\n",
    "#finding null values in columns\n",
    "null_df=select_df.select([count(when(col(c).isNull(), 0)).alias(c) for c in select_df.columns])\n",
    "print(null_df)\n",
    "null_df.show()\n",
    "# creating new df without null values\n",
    "filter_df=select_df.filter(select_df['Region'].isNotNull() & select_df['Total Contract Amount (USD)'].isNull())\n",
    "filter_df.select(\"*\").show()\n",
    "# verification for no of null values removed\n",
    "required_df = select_df.filter(select_df['Total Contract Amount (USD)'].isNotNull())\n",
    "print(select_df.count()-required_df.count())\n",
    "required_df.show()"
   ]
  },
  {
   "cell_type": "code",
   "execution_count": 46,
   "metadata": {
    "application/vnd.databricks.v1+cell": {
     "cellMetadata": {},
     "inputWidgets": {},
     "nuid": "857c1944-e86a-4909-8fbe-54f07b9327a3",
     "showTitle": false,
     "title": ""
    }
   },
   "outputs": [
    {
     "name": "stdout",
     "output_type": "stream",
     "text": [
      "+-----------+--------------------+--------------------+---------------------+----------+--------------------+--------------------+---------------------+---------------------------+\n",
      "|Fiscal Year|              Region|    Borrower Country|Borrower Country Code|Project ID|        Project Name|    Supplier Country|Supplier Country Code|Total Contract Amount (USD)|\n",
      "+-----------+--------------------+--------------------+---------------------+----------+--------------------+--------------------+---------------------+---------------------------+\n",
      "|       2004|              AFRICA|                Mali|                   ML|   P041723|Rural Infrastr (F...|                Mali|                   ML|                 176578.47 |\n",
      "|       2004|              AFRICA|                Mali|                   ML|   P041723|Rural Infrastr (F...|                Mali|                   ML|                  38386.63 |\n",
      "|       2004|              AFRICA|                Mali|                   ML|   P041723|Rural Infrastr (F...|                Mali|                   ML|                  76773.25 |\n",
      "|       2004|              AFRICA|                Mali|                   ML|   P041723|Rural Infrastr (F...|                Mali|                   ML|                  92127.90 |\n",
      "|       2004|EAST ASIA AND PAC...|           Indonesia|                   ID|   P040528|ID-W. JAVA ENVMT ...|           Indonesia|                   ID|                  10615.20 |\n",
      "|       2004|EAST ASIA AND PAC...|           Indonesia|                   ID|   P040528|ID-W. JAVA ENVMT ...|           Indonesia|                   ID|                  95536.79 |\n",
      "|       2004|EAST ASIA AND PAC...|         Timor-Leste|                   TP|   P072647|TP-FUNDAMENTAL SC...|         Timor-Leste|                   TP|                 144317.85 |\n",
      "|       2004|EAST ASIA AND PAC...|         Timor-Leste|                   TP|   P072647|TP-FUNDAMENTAL SC...|         Timor-Leste|                   TP|                 115712.54 |\n",
      "|       2004|          SOUTH ASIA|          Bangladesh|                   BD|   P071435|BD: Rural Transpo...|              Sweden|                   SE|                5329142.50 |\n",
      "|       2004|          SOUTH ASIA|          Bangladesh|                   BD|   P071435|BD: Rural Transpo...|           Australia|                   AU|                5144486.61 |\n",
      "|       2004|          SOUTH ASIA|              Bhutan|                   BT|   P057570| DEVELOPMENT PROJECT|              Bhutan|                   BT|                 257620.49 |\n",
      "|       2004|          SOUTH ASIA|               India|                   IN|   P035158|Third Andhra Prad...|               India|                   IN|                1214054.72 |\n",
      "|       2004|          SOUTH ASIA|               India|                   IN|   P050668|IN: MUMBAI URBAN ...|       United States|                   US|                 155622.19 |\n",
      "|       2004|          SOUTH ASIA|               India|                   IN|   P050668|IN: MUMBAI URBAN ...|       United States|                   US|                 881859.10 |\n",
      "|       2004|EUROPE AND CENTRA...|             Albania|                   AL|   P074905|PWR SECT REHAB/RE...|           Argentina|                   AR|                 104317.13 |\n",
      "|       2004|EUROPE AND CENTRA...|Bosnia and Herzeg...|                   BA|   P070995|           COMM DEVT|Bosnia and Herzeg...|                   BA|                   8174.18 |\n",
      "|       2004|EUROPE AND CENTRA...|Bosnia and Herzeg...|                   BA|   P070995|           COMM DEVT|Bosnia and Herzeg...|                   BA|                  14596.75 |\n",
      "|       2004|EUROPE AND CENTRA...|Bosnia and Herzeg...|                   BA|   P070995|           COMM DEVT|Bosnia and Herzeg...|                   BA|                  12261.27 |\n",
      "|       2004|EUROPE AND CENTRA...|Bosnia and Herzeg...|                   BA|   P070995|           COMM DEVT|Bosnia and Herzeg...|                   BA|                   8758.05 |\n",
      "|       2004|EUROPE AND CENTRA...|Bosnia and Herzeg...|                   BA|   P070995|           COMM DEVT|Bosnia and Herzeg...|                   BA|                  14596.73 |\n",
      "+-----------+--------------------+--------------------+---------------------+----------+--------------------+--------------------+---------------------+---------------------------+\n",
      "only showing top 20 rows\n",
      "\n",
      "root\n",
      " |-- Fiscal Year: integer (nullable = true)\n",
      " |-- Region: string (nullable = true)\n",
      " |-- Borrower Country: string (nullable = true)\n",
      " |-- Borrower Country Code: string (nullable = true)\n",
      " |-- Project ID: string (nullable = true)\n",
      " |-- Project Name: string (nullable = true)\n",
      " |-- Supplier Country: string (nullable = true)\n",
      " |-- Supplier Country Code: string (nullable = true)\n",
      " |-- Total Contract Amount (USD): float (nullable = true)\n",
      "\n"
     ]
    }
   ],
   "source": [
    "#removing the $ character from amount\n",
    "#from pyspark.sql.functions import translate\n",
    "newDf_1=select_df.withColumn('Total Contract Amount (USD)', translate('Total Contract Amount (USD)', '$', ''))    #replace\n",
    "newDf=newDf_1.withColumn('Total Contract Amount (USD)', translate('Total Contract Amount (USD)', ',', ''))    #replace\n",
    "newDf.show()\n",
    "# changing the data type of amount to Float\n",
    "#from pyspark.sql.types import StringType, DateType, FloatType\n",
    "datatype_change_df = newDf.withColumn(\"Total Contract Amount (USD)\" , newDf[\"Total Contract Amount (USD)\"].cast(FloatType()))\n",
    "datatype_change_df.printSchema()"
   ]
  },
  {
   "cell_type": "code",
   "execution_count": 47,
   "metadata": {
    "application/vnd.databricks.v1+cell": {
     "cellMetadata": {},
     "inputWidgets": {},
     "nuid": "76f856e1-affa-4097-b778-fe47686a9645",
     "showTitle": false,
     "title": ""
    }
   },
   "outputs": [
    {
     "name": "stdout",
     "output_type": "stream",
     "text": [
      "+-----------+---------------+\n",
      "|Fiscal Year|Total_Amt_spent|\n",
      "+-----------+---------------+\n",
      "|       2004|  8802666003.21|\n",
      "|       2005|  9455225201.82|\n",
      "|       2006|  8058946978.08|\n",
      "|       2007|  9946680178.06|\n",
      "|       2008| 12509365465.06|\n",
      "|       2009| 11107510212.79|\n",
      "|       2010| 14258776029.20|\n",
      "|       2011| 16555182762.57|\n",
      "|       2012| 16522654897.56|\n",
      "|       2013| 15405735943.30|\n",
      "|       2014| 14467766184.78|\n",
      "|       2015| 11843495996.41|\n",
      "|       2016| 14087775010.02|\n",
      "|       2017| 10783231557.83|\n",
      "|       2018|   813062335.13|\n",
      "+-----------+---------------+\n",
      "\n"
     ]
    }
   ],
   "source": [
    "#Overall amount spent for all projects year Wise\n",
    "grouped_df=datatype_change_df.groupBy('Fiscal Year').agg(sum('Total Contract Amount (USD)').cast(DecimalType(20, 2)).alias('Total_Amt_spent'))\n",
    "sorted_df=grouped_df.sort(\"Fiscal Year\",ascending = [True])\n",
    "sorted_df.show()\n"
   ]
  },
  {
   "cell_type": "code",
   "execution_count": 48,
   "metadata": {
    "application/vnd.databricks.v1+cell": {
     "cellMetadata": {},
     "inputWidgets": {},
     "nuid": "ce481da7-c386-4f2d-ae66-4ad2a3847b58",
     "showTitle": false,
     "title": ""
    }
   },
   "outputs": [
    {
     "name": "stdout",
     "output_type": "stream",
     "text": [
      "+--------------------+---------------+\n",
      "|    Borrower Country|Total_Amt_spent|\n",
      "+--------------------+---------------+\n",
      "|               India| 18803255974.53|\n",
      "|               China| 17471407861.32|\n",
      "|              Brazil|  9149722836.44|\n",
      "|           Argentina|  7227734355.89|\n",
      "|             Vietnam|  6764613349.50|\n",
      "|Egypt, Arab Repub...|  5499074063.37|\n",
      "|            Pakistan|  4997625017.26|\n",
      "|            Ethiopia|  4612266885.07|\n",
      "|              Africa|  4241284631.58|\n",
      "|          Bangladesh|  4237774397.43|\n",
      "|         Afghanistan|  4038329869.76|\n",
      "|          Azerbaijan|  3888039333.95|\n",
      "|             Nigeria|  3628668399.11|\n",
      "|          Kazakhstan|  3564597973.96|\n",
      "|           Indonesia|  3296791275.48|\n",
      "|  Russian Federation|  3292233554.32|\n",
      "|Congo, Democratic...|  3099829838.55|\n",
      "|        South Africa|  3072498194.63|\n",
      "|               Kenya|  2856797790.69|\n",
      "|              Turkey|  2839801399.44|\n",
      "+--------------------+---------------+\n",
      "only showing top 20 rows\n",
      "\n"
     ]
    }
   ],
   "source": [
    "\n",
    "#details of Amount spent Country wise \n",
    "grouped_df=datatype_change_df.groupBy('Borrower Country').agg(sum('Total Contract Amount (USD)').cast(DecimalType(20, 2)).alias('Total_Amt_spent'))\n",
    "sorted_df=grouped_df.sort([\"Total_Amt_spent\"],ascending = [False])\n",
    "sorted_df.show()\n"
   ]
  },
  {
   "cell_type": "code",
   "execution_count": 49,
   "metadata": {},
   "outputs": [
    {
     "name": "stdout",
     "output_type": "stream",
     "text": [
      "+--------------------+--------------+\n",
      "|        Project Name|Projects_count|\n",
      "+--------------------+--------------+\n",
      "|           COMM DEVT|          1097|\n",
      "|   VN-RURAL ENERGY 2|          1015|\n",
      "|Proj. in Support ...|           775|\n",
      "|DRC-Emerg MS Reha...|           652|\n",
      "|CO Consolidation ...|           638|\n",
      "|GT Support Rural ...|           601|\n",
      "|                SIEP|           539|\n",
      "|BD: Municipal Ser...|           522|\n",
      "|SV Income Support...|           513|\n",
      "|AF: Edu. Qlty. Im...|           499|\n",
      "|NI PFM Modernizat...|           493|\n",
      "|VIETNAM WATER RES...|           491|\n",
      "|VN-SYSTEM ENERGY,...|           487|\n",
      "|BD: HNP Sector Pr...|           464|\n",
      "|NI (CRL) Roads Re...|           455|\n",
      "|HN Trade Facilita...|           422|\n",
      "|BI-Pub Works & Em...|           413|\n",
      "|BD: Primary Educa...|           404|\n",
      "|Gujarat Emergency...|           403|\n",
      "|GT (APL2)LAND ADM...|           402|\n",
      "+--------------------+--------------+\n",
      "only showing top 20 rows\n",
      "\n"
     ]
    }
   ],
   "source": [
    "#No of projects undertaken in Each segment\n",
    "grouped_df=datatype_change_df.groupBy('Project Name').agg(count('Project Name').alias('Projects_count')).sort([\"Projects_count\"],ascending = [False])\n",
    "grouped_df.show()"
   ]
  },
  {
   "cell_type": "code",
   "execution_count": 50,
   "metadata": {},
   "outputs": [
    {
     "name": "stdout",
     "output_type": "stream",
     "text": [
      "+--------------------+--------------+\n",
      "|        Project Name|No_of_projects|\n",
      "+--------------------+--------------+\n",
      "|Gujarat Emergency...|           403|\n",
      "|AP Econ Restructu...|           300|\n",
      "|         IN: UP WSRP|           245|\n",
      "|   Rajasthan Power I|           241|\n",
      "|KAR WSHD DEVELOPMENT|           195|\n",
      "|IN: AP RURAL POV ...|           190|\n",
      "|   UP Sodic Lands II|           185|\n",
      "|IN: KARNATAKA RWS...|           143|\n",
      "|     IN: TN IAM WARM|           124|\n",
      "|IN: Integrated Co...|           119|\n",
      "|        IN: RAJ WSRP|            98|\n",
      "|IN: TN Health Sys...|            96|\n",
      "|IN: AP and Telang...|            84|\n",
      "|        IN: UP Roads|            82|\n",
      "|      IN: MAHAR WSIP|            82|\n",
      "|     IN: POWERGRID V|            82|\n",
      "|IN: Haryana Power...|            82|\n",
      "|IN: MUMBAI URBAN ...|            77|\n",
      "|IN: Assam Agric C...|            74|\n",
      "|IN: Third Nationa...|            72|\n",
      "+--------------------+--------------+\n",
      "only showing top 20 rows\n",
      "\n"
     ]
    }
   ],
   "source": [
    "#No of projects undertaken in India by each segment\n",
    "grouped_df=datatype_change_df.filter(datatype_change_df['Borrower Country']=='India').groupBy('Project Name').agg(count('Project Name').alias('No_of_projects')).sort([\"No_of_projects\"],ascending = [False])\n",
    "#type(grouped_df)\n",
    "grouped_df.show()"
   ]
  },
  {
   "cell_type": "code",
   "execution_count": 51,
   "metadata": {},
   "outputs": [
    {
     "name": "stdout",
     "output_type": "stream",
     "text": [
      "+--------------------+--------------+--------------+\n",
      "|              Region|No_of_projects|  Amount_spent|\n",
      "+--------------------+--------------+--------------+\n",
      "|              AFRICA|         39926|43063393092.96|\n",
      "|          SOUTH ASIA|         19253|33684480315.77|\n",
      "|EAST ASIA AND PAC...|         23617|30962263272.27|\n",
      "|EUROPE AND CENTRA...|         30458|29028129118.84|\n",
      "|LATIN AMERICA AND...|         30088|25304724454.49|\n",
      "|MIDDLE EAST AND N...|          8206|12566615938.20|\n",
      "|               OTHER|            75|    8468563.31|\n",
      "+--------------------+--------------+--------------+\n",
      "\n"
     ]
    }
   ],
   "source": [
    "#No of projects undertaken Region wise by each segment\n",
    "grouped_df=datatype_change_df.groupBy('Region').agg(count('region').alias('No_of_projects'),sum('Total Contract Amount (USD)').cast(DecimalType(20, 2)).alias('Amount_spent')).sort(['Amount_spent'],ascending = [False])\n",
    "grouped_df.show()\n"
   ]
  },
  {
   "cell_type": "code",
   "execution_count": null,
   "metadata": {},
   "outputs": [],
   "source": []
  }
 ],
 "metadata": {
  "application/vnd.databricks.v1+notebook": {
   "dashboards": [],
   "language": "python",
   "notebookMetadata": {
    "pythonIndentUnit": 4
   },
   "notebookName": "pyspark_project",
   "notebookOrigID": 525211773262362,
   "widgets": {}
  },
  "kernelspec": {
   "display_name": "Python 3 (ipykernel)",
   "language": "python",
   "name": "python3"
  },
  "language_info": {
   "codemirror_mode": {
    "name": "ipython",
    "version": 3
   },
   "file_extension": ".py",
   "mimetype": "text/x-python",
   "name": "python",
   "nbconvert_exporter": "python",
   "pygments_lexer": "ipython3",
   "version": "3.9.13"
  }
 },
 "nbformat": 4,
 "nbformat_minor": 1
}
